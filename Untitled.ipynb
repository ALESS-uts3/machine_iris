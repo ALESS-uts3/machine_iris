{
 "cells": [
  {
   "cell_type": "code",
   "execution_count": 9,
   "metadata": {},
   "outputs": [
    {
     "name": "stdout",
     "output_type": "stream",
     "text": [
      "Using matplotlib backend: MacOSX\n"
     ]
    },
    {
     "data": {
      "text/plain": [
       "<matplotlib.image.AxesImage at 0x1214dd358>"
      ]
     },
     "execution_count": 9,
     "metadata": {},
     "output_type": "execute_result"
    }
   ],
   "source": [
    "%matplotlib\n",
    "import ita\n",
    "def draw_ichimatsu(image):\n",
    "    for i in range(0,len(image)):\n",
    "        for j in range(0,len(image[i])):\n",
    "            w=((i-0)**2+(j-0)**2)**0.5\n",
    "            if w==0:\n",
    "                color=1\n",
    "            else:\n",
    "                color=0.99/w\n",
    "            image[i][j]=color\n",
    "    return image\n",
    "\n",
    "image=ita.array.make2d(4,4)\n",
    "image=draw_ichimatsu(image)\n",
    "ita.plot.image_show(image)  "
   ]
  },
  {
   "cell_type": "code",
   "execution_count": null,
   "metadata": {},
   "outputs": [],
   "source": []
  }
 ],
 "metadata": {
  "kernelspec": {
   "display_name": "Python 3",
   "language": "python",
   "name": "python3"
  },
  "language_info": {
   "codemirror_mode": {
    "name": "ipython",
    "version": 3
   },
   "file_extension": ".py",
   "mimetype": "text/x-python",
   "name": "python",
   "nbconvert_exporter": "python",
   "pygments_lexer": "ipython3",
   "version": "3.6.5"
  }
 },
 "nbformat": 4,
 "nbformat_minor": 2
}
